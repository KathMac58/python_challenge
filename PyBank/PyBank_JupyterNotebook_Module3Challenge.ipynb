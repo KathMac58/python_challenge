{
 "cells": [
  {
   "cell_type": "code",
   "execution_count": 75,
   "metadata": {},
   "outputs": [
    {
     "name": "stdout",
     "output_type": "stream",
     "text": [
      "C:\\Users\\kathr\\code\\python_challenge\\PyBank\\Resources\\budget_data.csv\n",
      "Total Months:86\n",
      "Total: $22564198\n",
      "Average Change: $-8311.11\n",
      "Greatest Increase in Profits: Aug-16 ($1862002)\n",
      "Greatest Decrease in Profits: Feb-14 ($-1825558)\n"
     ]
    }
   ],
   "source": [
    "# Create file & import module to read csv file\n",
    "import os\n",
    "import csv\n",
    "\n",
    "# Specify file path\n",
    "# csvpath = os.path.join('Resources', 'budget_data.csv')\n",
    "csvpath =r'C:\\Users\\kathr\\code\\python_challenge\\PyBank\\Resources\\budget_data.csv'\n",
    "\n",
    "# Read data from the CSV file, skip header row\n",
    "with open(csvpath) as csvfile:\n",
    "    csvreader = csv.reader(csvfile)\n",
    "    next(csvreader)\n",
    "    print(csvpath)\n",
    "\n",
    "    # Create location to store data\n",
    "    total_months = []\n",
    "    profit_losses = []\n",
    "    p_l_change = []\n",
    "\n",
    "    # Go through each row\n",
    "    for rows in csvreader:\n",
    "        total_months.append(rows[0])\n",
    "        profit_losses.append(int(rows[1]))\n",
    "\n",
    "    # List total number of months included in the dataset\n",
    "    months_total = len(total_months)\n",
    "    print(\"Total Months:\" + str(months_total))\n",
    "\n",
    "    # net total\n",
    "    net_total = sum(profit_losses)\n",
    "    print(\"Total: $\" + str(net_total))\n",
    "\n",
    "    # changes in \"profit/losses\" over entire period, and then the avg of those changes\n",
    "    # calculate changes in profit/losses; store in list\n",
    "    for i in range(1, months_total):\n",
    "        profit_loss_change = profit_losses[i] - profit_losses[i-1]\n",
    "        p_l_change.append(profit_loss_change)\n",
    "    \n",
    "    # calculate avg of changes stored above and print answer rounding to 2 decimal places\n",
    "    average = sum(p_l_change) / len(p_l_change)\n",
    "    print(\"Average Change: $\" + str(round(average, 2)))\n",
    "\n",
    "    #Greatest increase in profits (date and amt)\n",
    "    greatest_increase = max(p_l_change)\n",
    "    greatest_increase_date = total_months[p_l_change.index(greatest_increase) + 1]\n",
    "    print(f\"Greatest Increase in Profits: {greatest_increase_date} (${greatest_increase})\")\n",
    "\n",
    "    # Print the greatest decrease in profits (date and amount) over entire period\n",
    "    greatest_decrease = min(p_l_change)\n",
    "    greatest_decrease_date = total_months[p_l_change.index(greatest_decrease) + 1]\n",
    "    print(f\"Greatest Decrease in Profits: {greatest_decrease_date} (${greatest_decrease})\")\n",
    "\n",
    "\n",
    "\n",
    "#for i in range(len('Profit/Losses')):\n",
    "   # Profit_Loss_Change = 'Profit/Losses'.iloc[i] - 'Profit/Losses'.iloc[i-1]\n",
    "  \n",
    "#Profit_Loss_Change = PyBankCSVpath_df['Profit/Losses']-1\n",
    "#PyBankCSVpath_df[\"Profit Loss Change\"] = Profit_Loss_Change\n",
    "#PyBankCSVpath_df.head()\n",
    "\n",
    "#def ProfitLoss(df):\n",
    "    #df = \n",
    "\n",
    "#number = df.ix[:'Profit/Losses']\n",
    "\n",
    "#A = PyBankCSVpath_df[n]\n",
    "#B = PyBankCSVpath_df[n-1]\n",
    "#Profit_Loss_Change = A - B \n",
    "\n",
    "#change = 'Profit/Losses'\n",
    "\n",
    "#for i in range(1, 'Profit/Losses'):\n",
    "    #change =  profit_losses[i] - profit_losses[i-1]\n",
    "    #Profit_Loss_Change.append(change)\n",
    "\n",
    "#def Profit_Loss_Change('Profit/Losses'):\n",
    " #   return ('Profit/Losses' - 1)\n",
    "#df['Profit Loss Change'] = (df.['Profit/Losses' - 1])\n",
    "\n",
    "# calculate the avg of those changes\n",
    "#average = PyBankCSVpath_df['Profit_Loss_Change'].mean()\n",
    "\n",
    "\n"
   ]
  },
  {
   "cell_type": "code",
   "execution_count": null,
   "metadata": {},
   "outputs": [],
   "source": [
    "\n"
   ]
  }
 ],
 "metadata": {
  "kernelspec": {
   "display_name": "dev",
   "language": "python",
   "name": "python3"
  },
  "language_info": {
   "codemirror_mode": {
    "name": "ipython",
    "version": 3
   },
   "file_extension": ".py",
   "mimetype": "text/x-python",
   "name": "python",
   "nbconvert_exporter": "python",
   "pygments_lexer": "ipython3",
   "version": "3.10.13"
  }
 },
 "nbformat": 4,
 "nbformat_minor": 2
}
